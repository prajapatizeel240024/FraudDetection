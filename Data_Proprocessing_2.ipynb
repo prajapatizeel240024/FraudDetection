{
 "cells": [
  {
   "cell_type": "markdown",
   "id": "289c1ca3",
   "metadata": {},
   "source": [
    "# Data preprocessing"
   ]
  },
  {
   "cell_type": "markdown",
   "id": "425b8ed6",
   "metadata": {},
   "source": [
    "Once you understand your dataset, you'll probably have some idea about how you want to model your data. Machine learning models in Python require numerical input, so if your dataset has categorical variables, you'll need to transform them."
   ]
  },
  {
   "cell_type": "markdown",
   "id": "7da1836b",
   "metadata": {},
   "source": [
    "# 1. One-Hot Encoding\n",
    "One-Hot Encoding creates a binary column for each category level. It's useful for nominal data without an intrinsic order.\n",
    "\n",
    "Pros:\n",
    "\n",
    "Easy to understand and implement.\n",
    "Does not assume an order of the categories.\n",
    "Cons:\n",
    "\n",
    "Increases the dataset's dimensionality, which can lead to the curse of dimensionality in case of high cardinality.\n",
    "Not suitable for variables with many levels"
   ]
  },
  {
   "cell_type": "markdown",
   "id": "d860c6a9",
   "metadata": {},
   "source": [
    "# 2. Label Encoding\n",
    "Label Encoding converts each category level into a numerical value. It's suitable for ordinal data where the order matters.\n",
    "\n",
    "Pros:\n",
    "\n",
    "Keeps the dataset's dimensionality low.\n",
    "Suitable for tree-based algorithms.\n",
    "Cons:\n",
    "\n",
    "Introduces a numerical relationship between categories which might not exist.\n",
    "Not suitable for models like linear regression, where numerical values have mathematical implications."
   ]
  },
  {
   "cell_type": "markdown",
   "id": "c9246199",
   "metadata": {},
   "source": [
    "# 3. Frequency Encoding\n",
    "Frequency Encoding replaces categories with their frequencies. Useful when the frequency distribution is informative.\n",
    "\n",
    "Pros:\n",
    "\n",
    "Captures the importance of category levels based on their frequency.\n",
    "Keeps dimensionality low.\n",
    "Cons:\n",
    "\n",
    "Different categories can have the same frequency, leading to loss of information."
   ]
  },
  {
   "cell_type": "markdown",
   "id": "1e12f214",
   "metadata": {},
   "source": [
    "# 4. Binary Encoding\n",
    "Binary Encoding first converts categories into ordinal, then those integers into binary code, and then splits the digits of the binary code into separate columns.\n",
    "\n",
    "Pros:\n",
    "\n",
    "Reduces the dimensions as compared to one-hot encoding.\n",
    "Suitable for variables with a high number of categories.\n",
    "Cons:\n",
    "\n",
    "More complex and not as straightforward as one-hot or label encoding."
   ]
  },
  {
   "cell_type": "code",
   "execution_count": 1,
   "id": "46ec48d4",
   "metadata": {},
   "outputs": [],
   "source": [
    "import pandas as pd\n",
    "from sklearn.model_selection import train_test_split\n",
    "from sklearn.preprocessing import OneHotEncoder, LabelEncoder\n",
    "import category_encoders as ce"
   ]
  },
  {
   "cell_type": "code",
   "execution_count": 2,
   "id": "e6aea9d3",
   "metadata": {},
   "outputs": [],
   "source": [
    "# Load data\n",
    "file_path = \"C:\\\\Users\\\\praja\\\\PycharmProjects\\\\FraudDetection\\\\Data\\\\transactions_train.csv\"\n",
    "train = pd.read_csv(file_path)\n",
    "\n",
    "# Drop the 'nameOrig' and 'nameDest' columns\n",
    "train.drop(['nameOrig', 'nameDest'], axis=1, inplace=True)\n",
    "\n",
    "# Define target and features\n",
    "X = train.drop(\"isFraud\", axis=1)\n",
    "y = train[\"isFraud\"].to_numpy()\n",
    "\n",
    "# Select the 'type' column for encoding\n",
    "cat_column = 'type'"
   ]
  },
  {
   "cell_type": "code",
   "execution_count": 3,
   "id": "22a0c954",
   "metadata": {},
   "outputs": [],
   "source": [
    "# Label Encoding\n",
    "label_encoder = LabelEncoder()\n",
    "X_label_encoded = pd.DataFrame(label_encoder.fit_transform(X[cat_column]), columns=[cat_column + '_label'])"
   ]
  },
  {
   "cell_type": "code",
   "execution_count": 4,
   "id": "dda4cddf",
   "metadata": {},
   "outputs": [
    {
     "data": {
      "text/html": [
       "<div>\n",
       "<style scoped>\n",
       "    .dataframe tbody tr th:only-of-type {\n",
       "        vertical-align: middle;\n",
       "    }\n",
       "\n",
       "    .dataframe tbody tr th {\n",
       "        vertical-align: top;\n",
       "    }\n",
       "\n",
       "    .dataframe thead th {\n",
       "        text-align: right;\n",
       "    }\n",
       "</style>\n",
       "<table border=\"1\" class=\"dataframe\">\n",
       "  <thead>\n",
       "    <tr style=\"text-align: right;\">\n",
       "      <th></th>\n",
       "      <th>type_label</th>\n",
       "    </tr>\n",
       "  </thead>\n",
       "  <tbody>\n",
       "    <tr>\n",
       "      <th>0</th>\n",
       "      <td>3</td>\n",
       "    </tr>\n",
       "    <tr>\n",
       "      <th>1</th>\n",
       "      <td>3</td>\n",
       "    </tr>\n",
       "    <tr>\n",
       "      <th>2</th>\n",
       "      <td>4</td>\n",
       "    </tr>\n",
       "    <tr>\n",
       "      <th>3</th>\n",
       "      <td>1</td>\n",
       "    </tr>\n",
       "    <tr>\n",
       "      <th>4</th>\n",
       "      <td>3</td>\n",
       "    </tr>\n",
       "    <tr>\n",
       "      <th>...</th>\n",
       "      <td>...</td>\n",
       "    </tr>\n",
       "    <tr>\n",
       "      <th>6351188</th>\n",
       "      <td>4</td>\n",
       "    </tr>\n",
       "    <tr>\n",
       "      <th>6351189</th>\n",
       "      <td>1</td>\n",
       "    </tr>\n",
       "    <tr>\n",
       "      <th>6351190</th>\n",
       "      <td>4</td>\n",
       "    </tr>\n",
       "    <tr>\n",
       "      <th>6351191</th>\n",
       "      <td>1</td>\n",
       "    </tr>\n",
       "    <tr>\n",
       "      <th>6351192</th>\n",
       "      <td>2</td>\n",
       "    </tr>\n",
       "  </tbody>\n",
       "</table>\n",
       "<p>6351193 rows × 1 columns</p>\n",
       "</div>"
      ],
      "text/plain": [
       "         type_label\n",
       "0                 3\n",
       "1                 3\n",
       "2                 4\n",
       "3                 1\n",
       "4                 3\n",
       "...             ...\n",
       "6351188           4\n",
       "6351189           1\n",
       "6351190           4\n",
       "6351191           1\n",
       "6351192           2\n",
       "\n",
       "[6351193 rows x 1 columns]"
      ]
     },
     "execution_count": 4,
     "metadata": {},
     "output_type": "execute_result"
    }
   ],
   "source": [
    "X_label_encoded"
   ]
  },
  {
   "cell_type": "code",
   "execution_count": 5,
   "id": "cc6ee0cb",
   "metadata": {},
   "outputs": [],
   "source": [
    "# Frequency Encoding\n",
    "frequency_encoding = X[cat_column].map(X[cat_column].value_counts())"
   ]
  },
  {
   "cell_type": "code",
   "execution_count": 6,
   "id": "9ecf62d2",
   "metadata": {},
   "outputs": [
    {
     "data": {
      "text/plain": [
       "0          2147832\n",
       "1          2147832\n",
       "2           531817\n",
       "3          2233369\n",
       "4          2147832\n",
       "            ...   \n",
       "6351188     531817\n",
       "6351189    2233369\n",
       "6351190     531817\n",
       "6351191    2233369\n",
       "6351192      41310\n",
       "Name: type, Length: 6351193, dtype: int64"
      ]
     },
     "execution_count": 6,
     "metadata": {},
     "output_type": "execute_result"
    }
   ],
   "source": [
    "frequency_encoding"
   ]
  },
  {
   "cell_type": "code",
   "execution_count": 7,
   "id": "a0c3996a",
   "metadata": {},
   "outputs": [],
   "source": [
    "# Binary Encoding\n",
    "binary_encoder = ce.BinaryEncoder(cols=[cat_column])\n",
    "X_binary_encoded = binary_encoder.fit_transform(X[[cat_column]])"
   ]
  },
  {
   "cell_type": "code",
   "execution_count": 8,
   "id": "5ca5f694",
   "metadata": {},
   "outputs": [
    {
     "data": {
      "text/html": [
       "<div>\n",
       "<style scoped>\n",
       "    .dataframe tbody tr th:only-of-type {\n",
       "        vertical-align: middle;\n",
       "    }\n",
       "\n",
       "    .dataframe tbody tr th {\n",
       "        vertical-align: top;\n",
       "    }\n",
       "\n",
       "    .dataframe thead th {\n",
       "        text-align: right;\n",
       "    }\n",
       "</style>\n",
       "<table border=\"1\" class=\"dataframe\">\n",
       "  <thead>\n",
       "    <tr style=\"text-align: right;\">\n",
       "      <th></th>\n",
       "      <th>type_0</th>\n",
       "      <th>type_1</th>\n",
       "      <th>type_2</th>\n",
       "    </tr>\n",
       "  </thead>\n",
       "  <tbody>\n",
       "    <tr>\n",
       "      <th>0</th>\n",
       "      <td>0</td>\n",
       "      <td>0</td>\n",
       "      <td>1</td>\n",
       "    </tr>\n",
       "    <tr>\n",
       "      <th>1</th>\n",
       "      <td>0</td>\n",
       "      <td>0</td>\n",
       "      <td>1</td>\n",
       "    </tr>\n",
       "    <tr>\n",
       "      <th>2</th>\n",
       "      <td>0</td>\n",
       "      <td>1</td>\n",
       "      <td>0</td>\n",
       "    </tr>\n",
       "    <tr>\n",
       "      <th>3</th>\n",
       "      <td>0</td>\n",
       "      <td>1</td>\n",
       "      <td>1</td>\n",
       "    </tr>\n",
       "    <tr>\n",
       "      <th>4</th>\n",
       "      <td>0</td>\n",
       "      <td>0</td>\n",
       "      <td>1</td>\n",
       "    </tr>\n",
       "    <tr>\n",
       "      <th>...</th>\n",
       "      <td>...</td>\n",
       "      <td>...</td>\n",
       "      <td>...</td>\n",
       "    </tr>\n",
       "    <tr>\n",
       "      <th>6351188</th>\n",
       "      <td>0</td>\n",
       "      <td>1</td>\n",
       "      <td>0</td>\n",
       "    </tr>\n",
       "    <tr>\n",
       "      <th>6351189</th>\n",
       "      <td>0</td>\n",
       "      <td>1</td>\n",
       "      <td>1</td>\n",
       "    </tr>\n",
       "    <tr>\n",
       "      <th>6351190</th>\n",
       "      <td>0</td>\n",
       "      <td>1</td>\n",
       "      <td>0</td>\n",
       "    </tr>\n",
       "    <tr>\n",
       "      <th>6351191</th>\n",
       "      <td>0</td>\n",
       "      <td>1</td>\n",
       "      <td>1</td>\n",
       "    </tr>\n",
       "    <tr>\n",
       "      <th>6351192</th>\n",
       "      <td>1</td>\n",
       "      <td>0</td>\n",
       "      <td>0</td>\n",
       "    </tr>\n",
       "  </tbody>\n",
       "</table>\n",
       "<p>6351193 rows × 3 columns</p>\n",
       "</div>"
      ],
      "text/plain": [
       "         type_0  type_1  type_2\n",
       "0             0       0       1\n",
       "1             0       0       1\n",
       "2             0       1       0\n",
       "3             0       1       1\n",
       "4             0       0       1\n",
       "...         ...     ...     ...\n",
       "6351188       0       1       0\n",
       "6351189       0       1       1\n",
       "6351190       0       1       0\n",
       "6351191       0       1       1\n",
       "6351192       1       0       0\n",
       "\n",
       "[6351193 rows x 3 columns]"
      ]
     },
     "execution_count": 8,
     "metadata": {},
     "output_type": "execute_result"
    }
   ],
   "source": [
    "X_binary_encoded"
   ]
  },
  {
   "cell_type": "code",
   "execution_count": 9,
   "id": "04599451",
   "metadata": {
    "scrolled": false
   },
   "outputs": [],
   "source": [
    "from sklearn.preprocessing import StandardScaler\n",
    "from sklearn.decomposition import PCA\n",
    "import numpy as np"
   ]
  },
  {
   "cell_type": "code",
   "execution_count": 10,
   "id": "4e3051f0",
   "metadata": {},
   "outputs": [],
   "source": [
    "# Concatenate label encoded 'type' column with the original data\n",
    "X_full_processed = pd.concat([X, X_label_encoded], axis=1)"
   ]
  },
  {
   "cell_type": "code",
   "execution_count": 11,
   "id": "72773991",
   "metadata": {},
   "outputs": [
    {
     "data": {
      "text/html": [
       "<div>\n",
       "<style scoped>\n",
       "    .dataframe tbody tr th:only-of-type {\n",
       "        vertical-align: middle;\n",
       "    }\n",
       "\n",
       "    .dataframe tbody tr th {\n",
       "        vertical-align: top;\n",
       "    }\n",
       "\n",
       "    .dataframe thead th {\n",
       "        text-align: right;\n",
       "    }\n",
       "</style>\n",
       "<table border=\"1\" class=\"dataframe\">\n",
       "  <thead>\n",
       "    <tr style=\"text-align: right;\">\n",
       "      <th></th>\n",
       "      <th>step</th>\n",
       "      <th>type</th>\n",
       "      <th>amount</th>\n",
       "      <th>oldbalanceOrig</th>\n",
       "      <th>newbalanceOrig</th>\n",
       "      <th>oldbalanceDest</th>\n",
       "      <th>newbalanceDest</th>\n",
       "      <th>type_label</th>\n",
       "    </tr>\n",
       "  </thead>\n",
       "  <tbody>\n",
       "    <tr>\n",
       "      <th>0</th>\n",
       "      <td>1</td>\n",
       "      <td>PAYMENT</td>\n",
       "      <td>9839.64</td>\n",
       "      <td>170136.00</td>\n",
       "      <td>160296.36</td>\n",
       "      <td>0.00</td>\n",
       "      <td>0.00</td>\n",
       "      <td>3</td>\n",
       "    </tr>\n",
       "    <tr>\n",
       "      <th>1</th>\n",
       "      <td>1</td>\n",
       "      <td>PAYMENT</td>\n",
       "      <td>1864.28</td>\n",
       "      <td>21249.00</td>\n",
       "      <td>19384.72</td>\n",
       "      <td>0.00</td>\n",
       "      <td>0.00</td>\n",
       "      <td>3</td>\n",
       "    </tr>\n",
       "    <tr>\n",
       "      <th>2</th>\n",
       "      <td>1</td>\n",
       "      <td>TRANSFER</td>\n",
       "      <td>181.00</td>\n",
       "      <td>181.00</td>\n",
       "      <td>0.00</td>\n",
       "      <td>0.00</td>\n",
       "      <td>0.00</td>\n",
       "      <td>4</td>\n",
       "    </tr>\n",
       "    <tr>\n",
       "      <th>3</th>\n",
       "      <td>1</td>\n",
       "      <td>CASH_OUT</td>\n",
       "      <td>181.00</td>\n",
       "      <td>181.00</td>\n",
       "      <td>0.00</td>\n",
       "      <td>21182.00</td>\n",
       "      <td>0.00</td>\n",
       "      <td>1</td>\n",
       "    </tr>\n",
       "    <tr>\n",
       "      <th>4</th>\n",
       "      <td>1</td>\n",
       "      <td>PAYMENT</td>\n",
       "      <td>11668.14</td>\n",
       "      <td>41554.00</td>\n",
       "      <td>29885.86</td>\n",
       "      <td>0.00</td>\n",
       "      <td>0.00</td>\n",
       "      <td>3</td>\n",
       "    </tr>\n",
       "    <tr>\n",
       "      <th>...</th>\n",
       "      <td>...</td>\n",
       "      <td>...</td>\n",
       "      <td>...</td>\n",
       "      <td>...</td>\n",
       "      <td>...</td>\n",
       "      <td>...</td>\n",
       "      <td>...</td>\n",
       "      <td>...</td>\n",
       "    </tr>\n",
       "    <tr>\n",
       "      <th>6351188</th>\n",
       "      <td>699</td>\n",
       "      <td>TRANSFER</td>\n",
       "      <td>162326.52</td>\n",
       "      <td>162326.52</td>\n",
       "      <td>0.00</td>\n",
       "      <td>0.00</td>\n",
       "      <td>0.00</td>\n",
       "      <td>4</td>\n",
       "    </tr>\n",
       "    <tr>\n",
       "      <th>6351189</th>\n",
       "      <td>699</td>\n",
       "      <td>CASH_OUT</td>\n",
       "      <td>162326.52</td>\n",
       "      <td>162326.52</td>\n",
       "      <td>0.00</td>\n",
       "      <td>0.00</td>\n",
       "      <td>162326.52</td>\n",
       "      <td>1</td>\n",
       "    </tr>\n",
       "    <tr>\n",
       "      <th>6351190</th>\n",
       "      <td>699</td>\n",
       "      <td>TRANSFER</td>\n",
       "      <td>2763398.31</td>\n",
       "      <td>2763398.31</td>\n",
       "      <td>0.00</td>\n",
       "      <td>0.00</td>\n",
       "      <td>0.00</td>\n",
       "      <td>4</td>\n",
       "    </tr>\n",
       "    <tr>\n",
       "      <th>6351191</th>\n",
       "      <td>699</td>\n",
       "      <td>CASH_OUT</td>\n",
       "      <td>2763398.31</td>\n",
       "      <td>2763398.31</td>\n",
       "      <td>0.00</td>\n",
       "      <td>339515.35</td>\n",
       "      <td>3102913.66</td>\n",
       "      <td>1</td>\n",
       "    </tr>\n",
       "    <tr>\n",
       "      <th>6351192</th>\n",
       "      <td>699</td>\n",
       "      <td>DEBIT</td>\n",
       "      <td>578.21</td>\n",
       "      <td>10575.00</td>\n",
       "      <td>9996.79</td>\n",
       "      <td>127072.23</td>\n",
       "      <td>127650.44</td>\n",
       "      <td>2</td>\n",
       "    </tr>\n",
       "  </tbody>\n",
       "</table>\n",
       "<p>6351193 rows × 8 columns</p>\n",
       "</div>"
      ],
      "text/plain": [
       "         step      type      amount  oldbalanceOrig  newbalanceOrig  \\\n",
       "0           1   PAYMENT     9839.64       170136.00       160296.36   \n",
       "1           1   PAYMENT     1864.28        21249.00        19384.72   \n",
       "2           1  TRANSFER      181.00          181.00            0.00   \n",
       "3           1  CASH_OUT      181.00          181.00            0.00   \n",
       "4           1   PAYMENT    11668.14        41554.00        29885.86   \n",
       "...       ...       ...         ...             ...             ...   \n",
       "6351188   699  TRANSFER   162326.52       162326.52            0.00   \n",
       "6351189   699  CASH_OUT   162326.52       162326.52            0.00   \n",
       "6351190   699  TRANSFER  2763398.31      2763398.31            0.00   \n",
       "6351191   699  CASH_OUT  2763398.31      2763398.31            0.00   \n",
       "6351192   699     DEBIT      578.21        10575.00         9996.79   \n",
       "\n",
       "         oldbalanceDest  newbalanceDest  type_label  \n",
       "0                  0.00            0.00           3  \n",
       "1                  0.00            0.00           3  \n",
       "2                  0.00            0.00           4  \n",
       "3              21182.00            0.00           1  \n",
       "4                  0.00            0.00           3  \n",
       "...                 ...             ...         ...  \n",
       "6351188            0.00            0.00           4  \n",
       "6351189            0.00       162326.52           1  \n",
       "6351190            0.00            0.00           4  \n",
       "6351191       339515.35      3102913.66           1  \n",
       "6351192       127072.23       127650.44           2  \n",
       "\n",
       "[6351193 rows x 8 columns]"
      ]
     },
     "execution_count": 11,
     "metadata": {},
     "output_type": "execute_result"
    }
   ],
   "source": [
    "X_full_processed"
   ]
  },
  {
   "cell_type": "code",
   "execution_count": 12,
   "id": "39a09bce",
   "metadata": {},
   "outputs": [],
   "source": [
    "X_full_processed['log_transformed_amount'] = np.log1p(X_full_processed['amount'])"
   ]
  },
  {
   "cell_type": "code",
   "execution_count": 13,
   "id": "7f7603b5",
   "metadata": {},
   "outputs": [],
   "source": [
    "X_full_processed=X_full_processed[['step','oldbalanceOrig','newbalanceOrig','oldbalanceDest','newbalanceDest','type_label','log_transformed_amount']]"
   ]
  },
  {
   "cell_type": "code",
   "execution_count": 14,
   "id": "e5e3507d",
   "metadata": {
    "scrolled": true
   },
   "outputs": [],
   "source": [
    "# Dimensionality Reduction with PCA\n",
    "pca = PCA(n_components=0.95)  # Adjust the number of components as needed\n",
    "X_pca = pca.fit_transform(X_full_processed)"
   ]
  },
  {
   "cell_type": "code",
   "execution_count": 15,
   "id": "b1a167a0",
   "metadata": {},
   "outputs": [
    {
     "data": {
      "text/plain": [
       "array([[-1762981.6933353 ,  -728136.30484524],\n",
       "       [-1790911.01715249,  -931078.04294425],\n",
       "       [-1794809.20062294,  -959404.02649291],\n",
       "       ...,\n",
       "       [-1530600.96978408,   964020.19848722],\n",
       "       [  953363.71152689,   592886.29761781],\n",
       "       [-1614525.38105568,  -969557.35487434]])"
      ]
     },
     "execution_count": 15,
     "metadata": {},
     "output_type": "execute_result"
    }
   ],
   "source": [
    "X_pca"
   ]
  },
  {
   "cell_type": "code",
   "execution_count": null,
   "id": "92fe57a2",
   "metadata": {},
   "outputs": [],
   "source": []
  }
 ],
 "metadata": {
  "kernelspec": {
   "display_name": "Python 3 (ipykernel)",
   "language": "python",
   "name": "python3"
  },
  "language_info": {
   "codemirror_mode": {
    "name": "ipython",
    "version": 3
   },
   "file_extension": ".py",
   "mimetype": "text/x-python",
   "name": "python",
   "nbconvert_exporter": "python",
   "pygments_lexer": "ipython3",
   "version": "3.11.4"
  }
 },
 "nbformat": 4,
 "nbformat_minor": 5
}
